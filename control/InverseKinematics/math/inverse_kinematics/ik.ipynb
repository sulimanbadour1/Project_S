{
 "cells": [
  {
   "cell_type": "code",
   "execution_count": 4,
   "metadata": {},
   "outputs": [
    {
     "name": "stdout",
     "output_type": "stream",
     "text": [
      "Calculated Joint Angles: (-1.373400766945016, nan, nan, 0.0, -0.0)\n"
     ]
    },
    {
     "name": "stderr",
     "output_type": "stream",
     "text": [
      "C:\\Users\\jafer\\AppData\\Local\\Temp\\ipykernel_28640\\1789298309.py:16: RuntimeWarning: invalid value encountered in arccos\n",
      "  theta2 = np.arccos((a2**2 + c**2 - a3**2) / (2 * a2 * c))\n",
      "C:\\Users\\jafer\\AppData\\Local\\Temp\\ipykernel_28640\\1789298309.py:17: RuntimeWarning: invalid value encountered in arccos\n",
      "  theta3 = np.arccos((a2**2 + a3**2 - c**2) / (2 * a2 * a3))\n"
     ]
    }
   ],
   "source": [
    "import numpy as np\n",
    "\n",
    "def calculate_joint_angles(x_d, y_d, z_d, R_d):\n",
    "    # Define the link lengths and offsets as per your robot's configuration\n",
    "    a1, a2, a3, a4, a5 = 0.03, 0.25, 0.28, 0.28, 0.15  # Link lengths\n",
    "    d1 = 0.05  # Base offset\n",
    "    \n",
    "    # Calculate theta1\n",
    "    theta1 = np.arctan2(y_d, x_d)\n",
    "    \n",
    "    # Calculate r and c\n",
    "    r = np.sqrt(x_d**2 + y_d**2) - a1\n",
    "    c = np.sqrt(r**2 + (z_d - d1)**2)\n",
    "    \n",
    "    # Calculate theta2 and theta3 using the cosine law\n",
    "    theta2 = np.arccos((a2**2 + c**2 - a3**2) / (2 * a2 * c))\n",
    "    theta3 = np.arccos((a2**2 + a3**2 - c**2) / (2 * a2 * a3))\n",
    "    \n",
    "    # Assuming identity matrices for joint rotations up to joint 3 for simplicity\n",
    "    R3 = np.eye(3)  # This should actually be the result of the actual joint angles' rotation matrices\n",
    "    R_rel = np.linalg.inv(R3) @ R_d  # Calculate relative rotation matrix\n",
    "    \n",
    "    # Calculate theta4 and theta5 based on the wrist orientation matrix\n",
    "    theta4 = np.arctan2(R_rel[2, 1], R_rel[2, 2])\n",
    "    theta5 = np.arctan2(-R_rel[2, 0], np.sqrt(R_rel[2, 1]**2 + R_rel[2, 2]**2))\n",
    "    \n",
    "    return theta1, theta2, theta3, theta4, theta5\n",
    "\n",
    "# Example call\n",
    "x_d, y_d, z_d = -1, -5, 0.2  # Desired position\n",
    "R_d = np.eye(3)  # Identity matrix for simplicity\n",
    "angles = calculate_joint_angles(x_d, y_d, z_d, R_d)\n",
    "print(\"Calculated Joint Angles:\", angles)\n"
   ]
  }
 ],
 "metadata": {
  "kernelspec": {
   "display_name": "base",
   "language": "python",
   "name": "python3"
  },
  "language_info": {
   "codemirror_mode": {
    "name": "ipython",
    "version": 3
   },
   "file_extension": ".py",
   "mimetype": "text/x-python",
   "name": "python",
   "nbconvert_exporter": "python",
   "pygments_lexer": "ipython3",
   "version": "3.11.7"
  }
 },
 "nbformat": 4,
 "nbformat_minor": 2
}
