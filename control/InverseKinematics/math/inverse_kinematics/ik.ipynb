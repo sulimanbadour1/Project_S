{
 "cells": [
  {
   "cell_type": "code",
   "execution_count": 29,
   "metadata": {},
   "outputs": [],
   "source": [
    "from math import pi, acos, sqrt, atan2, degrees, radians\n",
    "\n",
    "def inv_kin(xp, yp, zp, joint_array):\n",
    "    L = 0.5  # d1ength of arm elbow\n",
    "    l_base = 0.1  # base height\n",
    "    l_45 = 0.1  # length from joint 4 to joint 5\n",
    "    length = sqrt(xp ** 2 + yp ** 2)\n",
    "\n",
    "    h = abs(zp - l_base)  # distance in z direction between first joint and 4th joint\n",
    "    d = length - l_45  # distance from the base to the beginning of the gripper projected on XY plane\n",
    "    x = sqrt(h ** 2 + d ** 2) / 2  # half of the distance from the base to the beginning of the gripper\n",
    "\n",
    "    alpha = acos(x / L)\n",
    "    beta = acos(d / (2 * x))\n",
    "    theta_0 = atan2(yp, xp)  # angle on the target\n",
    "\n",
    "    theta_1 = pi / 2 - (alpha + beta)\n",
    "    theta_2 = 2 * alpha\n",
    "    theta_3 = (theta_1 + theta_2) + pi / 2\n",
    "\n",
    "    joint_array[0] = theta_0\n",
    "    joint_array[1] = theta_1\n",
    "    joint_array[2] = theta_2\n",
    "    joint_array[3] = theta_3\n",
    "    joint_array[4] = 0\n",
    "\n",
    "    return joint_array\n"
   ]
  },
  {
   "cell_type": "code",
   "execution_count": 28,
   "metadata": {},
   "outputs": [
    {
     "name": "stdout",
     "output_type": "stream",
     "text": [
      "Joint angles in radians: [0.0, 0.0, 0.0, -1.5707963267948966, 0]\n",
      "Joint angles in degrees: [0.0, 0.0, 0.0, -90.0, 0.0]\n"
     ]
    }
   ],
   "source": [
    "if __name__ == \"__main__\":\n",
    "    # Define the target position\n",
    "    xp, yp, zp = 0.1, 0, 1.1  # example coordinates\n",
    "    joint_array = [0, 0, 0, 0, 0]  # initialize joint array\n",
    "\n",
    "    # Call the inv_kin function\n",
    "    result = inv_kin(xp, yp, zp, joint_array)\n",
    "    \n",
    "    # Print the result in radians\n",
    "    print(\"Joint angles in radians:\", result)\n",
    "    \n",
    "    # Convert each angle in the result to degrees and print\n",
    "    result_degrees = [degrees(angle) for angle in result]\n",
    "    print(\"Joint angles in degrees:\", result_degrees)"
   ]
  }
 ],
 "metadata": {
  "kernelspec": {
   "display_name": "base",
   "language": "python",
   "name": "python3"
  },
  "language_info": {
   "codemirror_mode": {
    "name": "ipython",
    "version": 3
   },
   "file_extension": ".py",
   "mimetype": "text/x-python",
   "name": "python",
   "nbconvert_exporter": "python",
   "pygments_lexer": "ipython3",
   "version": "3.11.7"
  }
 },
 "nbformat": 4,
 "nbformat_minor": 2
}
