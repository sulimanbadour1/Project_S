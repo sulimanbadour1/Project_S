{
 "cells": [
  {
   "cell_type": "code",
   "execution_count": 48,
   "metadata": {},
   "outputs": [],
   "source": [
    "import math\n",
    "import matplotlib.pyplot as plt\n",
    "from mpl_toolkits.mplot3d import Axes3D\n",
    "import numpy as np\n",
    "from ipywidgets import interactive, FloatSlider\n",
    "import ipywidgets as widgets"
   ]
  },
  {
   "cell_type": "code",
   "execution_count": 49,
   "metadata": {},
   "outputs": [],
   "source": [
    "# Define DH parameters\n",
    "d1, a1, alpha1 = 0.1, 0, math.pi / 2\n",
    "d2, a2, alpha2 = 0, 0.5, 0\n",
    "d3, a3, alpha3 = 0, 0.5, 0\n",
    "d4, a4, alpha4 = 0, 0, math.pi / 2\n",
    "d5, a5, alpha5 = 0.1, 0, 0"
   ]
  },
  {
   "cell_type": "code",
   "execution_count": 50,
   "metadata": {},
   "outputs": [],
   "source": [
    "\n",
    "def inverse_kinematics(Px, Py, Pz, d1, a2, a3, d5, omega):\n",
    "    # Calculate wrist position coordinates\n",
    "    R = d5 * math.cos(math.radians(omega))\n",
    "    theta1 = math.degrees(math.atan2(Py, Px))\n",
    "    theta1_rad = math.radians(theta1)\n",
    "\n",
    "    Pxw = Px - R * math.cos(theta1_rad)\n",
    "    Pyw = Py - R * math.sin(theta1_rad)\n",
    "    Pzw = Pz - d5 * math.sin(math.radians(omega))\n",
    "\n",
    "    # Calculate Rw and S\n",
    "    Rw = math.sqrt(Pxw**2 + Pyw**2)\n",
    "    S = math.sqrt((Pzw - d1) ** 2 + Rw**2)\n",
    "\n",
    "    # Calculate theta2 and theta3\n",
    "    alpha = math.degrees(math.atan2(Pzw - d1, Rw))\n",
    "    beta = math.degrees(math.acos((a2**2 + S**2 - a3**2) / (2 * a2 * S)))\n",
    "\n",
    "    theta2 = alpha + beta\n",
    "    # or\n",
    "    theta2_alt = alpha - beta\n",
    "\n",
    "    # Calculate theta3\n",
    "\n",
    "    theta3 = math.degrees(math.acos((S**2 - a2**2 - a3**2) / (2 * a2 * a3)))\n",
    "\n",
    "    # or\n",
    "    theta3 = -theta3  # Adjust for proper direction\n",
    "\n",
    "    # Calculate theta4\n",
    "    theta234 = 90 - omega\n",
    "    # theta234_alt = 90 + omega\n",
    "    theta4 = theta234 - theta2 - theta3\n",
    "\n",
    "    return theta1, theta2, theta3, theta4, theta234\n"
   ]
  },
  {
   "cell_type": "code",
   "execution_count": 55,
   "metadata": {},
   "outputs": [],
   "source": [
    "\n",
    "def forward_kinematics(d1, a2, a3, d5, theta1, theta2, theta3, theta4):\n",
    "    # Convert angles to radians\n",
    "    theta1 = math.radians(theta1)\n",
    "    theta2 = math.radians(theta2)\n",
    "    theta3 = math.radians(theta3)\n",
    "    theta4 = math.radians(theta4)\n",
    "\n",
    "    # Joint positions\n",
    "    x0, y0, z0 = 0, 0, 0\n",
    "    x1, y1, z1 = 0, 0, d1\n",
    "    x2 = a2 * math.cos(theta1) * math.cos(theta2)\n",
    "    y2 = a2 * math.sin(theta1) * math.cos(theta2)\n",
    "    z2 = d1 + a2 * math.sin(theta2)\n",
    "    x3 = x2 + a3 * math.cos(theta1) * math.cos(theta2 + theta3)\n",
    "    y3 = y2 + a3 * math.sin(theta1) * math.cos(theta2 + theta3)\n",
    "    z3 = z2 + a3 * math.sin(theta2 + theta3)\n",
    "\n",
    "    x4 = x3 + a4 * math.cos(theta1) * math.cos(theta2 + theta3 + theta4)\n",
    "    y4 = y3  + a4 * math.sin(theta1) * math.cos(theta2 + theta3 + theta4)\n",
    "    z4 = z3 + a4 * math.sin(theta2 + theta3 + theta4)\n",
    "\n",
    "    \n",
    "\n",
    "    return [(x0, y0, z0), (x1, y1, z1), (x2, y2, z2), (x3, y3, z3), (x4, y4, z4)]\n"
   ]
  },
  {
   "cell_type": "code",
   "execution_count": 52,
   "metadata": {},
   "outputs": [],
   "source": [
    "\n",
    "def plot_robot(joint_positions):\n",
    "    # Unpack joint positions\n",
    "    x, y, z = zip(*joint_positions)\n",
    "\n",
    "    # Plot the robot\n",
    "    fig = plt.figure()\n",
    "    ax = fig.add_subplot(111, projection=\"3d\")\n",
    "    ax.plot(x, y, z, \"o-\", markersize=10, label=\"Robot Arm\")\n",
    "    ax.scatter(x, y, z, c=\"k\")\n",
    "\n",
    "    # Add text labels for the links and lengths\n",
    "    for i in range(len(joint_positions) - 1):\n",
    "        ax.text(\n",
    "            (x[i] + x[i + 1]) / 2,\n",
    "            (y[i] + y[i + 1]) / 2,\n",
    "            (z[i] + z[i + 1]) / 2,\n",
    "            f\"Link {i + 1}\",\n",
    "            color=\"black\",\n",
    "        )\n",
    "\n",
    "    # Set labels and title\n",
    "    ax.set_xlabel(\"X axis\")\n",
    "    ax.set_ylabel(\"Y axis\")\n",
    "    ax.set_zlabel(\"Z axis\")\n",
    "    ax.set_title(\"3D Robot Configuration\")\n",
    "    ax.legend()\n",
    "    ax.set_box_aspect([1, 1, 1])\n",
    "   # plt.show()\n",
    "\n"
   ]
  },
  {
   "cell_type": "code",
   "execution_count": 53,
   "metadata": {},
   "outputs": [],
   "source": [
    "\n",
    "def update_robot(Px, Py, Pz, omega):\n",
    "    theta1, theta2, theta3, theta4 = inverse_kinematics(Px, Py, Pz, d1, a2, a3, d5, omega)\n",
    "    joint_positions = forward_kinematics(d1, a2, a3, d5, theta1, theta2, theta3, theta4)\n",
    "    end_effector_position = joint_positions[-1]\n",
    "    plot_robot(joint_positions)\n",
    "    print(f\"Theta1: {theta1:.2f} degrees\")\n",
    "    print(f\"Theta2: {theta2:.2f} degrees\")\n",
    "    print(f\"Theta3: {theta3:.2f} degrees\")\n",
    "    print(f\"Theta4: {theta4:.2f} degrees\")\n",
    "    print(f\"End Effector Position: {end_effector_position}\")\n",
    "    \n",
    "    plot_robot(joint_positions)"
   ]
  },
  {
   "cell_type": "code",
   "execution_count": 54,
   "metadata": {},
   "outputs": [
    {
     "data": {
      "application/vnd.jupyter.widget-view+json": {
       "model_id": "d2db8ee46a1345ebbb32b98f8b6412af",
       "version_major": 2,
       "version_minor": 0
      },
      "text/plain": [
       "interactive(children=(FloatSlider(value=0.8, description='Px', max=1.1, min=-1.1, step=0.01), FloatSlider(valu…"
      ]
     },
     "metadata": {},
     "output_type": "display_data"
    }
   ],
   "source": [
    "# Interactive sliders\n",
    "Px_slider = FloatSlider(value=0.8, min=-1.1, max=1.1, step=0.01, description='Px')\n",
    "Py_slider = FloatSlider(value=0, min=-1.1, max=1.1, step=0.01, description='Py')\n",
    "Pz_slider = FloatSlider(value=-0.4, min=-1.0, max=1.0, step=0.01, description='Pz')\n",
    "omega_slider = FloatSlider(value=-90, min=-180, max=180, step=1, description='Omega')\n",
    "\n",
    "interactive_plot = interactive(update_robot, Px=Px_slider, Py=Py_slider, Pz=Pz_slider, omega=omega_slider)\n",
    "interactive_plot"
   ]
  }
 ],
 "metadata": {
  "kernelspec": {
   "display_name": "base",
   "language": "python",
   "name": "python3"
  },
  "language_info": {
   "codemirror_mode": {
    "name": "ipython",
    "version": 3
   },
   "file_extension": ".py",
   "mimetype": "text/x-python",
   "name": "python",
   "nbconvert_exporter": "python",
   "pygments_lexer": "ipython3",
   "version": "3.11.7"
  }
 },
 "nbformat": 4,
 "nbformat_minor": 2
}
