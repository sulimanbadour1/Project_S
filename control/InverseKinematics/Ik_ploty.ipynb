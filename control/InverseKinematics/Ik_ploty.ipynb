{
 "cells": [
  {
   "cell_type": "code",
   "execution_count": 10,
   "metadata": {},
   "outputs": [],
   "source": [
    "# Import required libraries\n",
    "import ikpy.chain\n",
    "import numpy as np\n",
    "import time\n",
    "import math\n",
    "import plotly.graph_objects as go\n",
    "import ipywidgets as widgets\n",
    "#import serial\n"
   ]
  },
  {
   "cell_type": "code",
   "execution_count": 11,
   "metadata": {},
   "outputs": [],
   "source": [
    "# Load the robot chain from a URDF file\n",
    "my_chain = ikpy.chain.Chain.from_urdf_file(\"arm_urdf.urdf\", active_links_mask=[False, True, True, True, True, True, True])"
   ]
  },
  {
   "cell_type": "code",
   "execution_count": 12,
   "metadata": {},
   "outputs": [],
   "source": [
    "# Define initial target position and orientation\n",
    "target_position = [0, 0, 0.58]\n",
    "target_orientation = [-1, 0, 0]"
   ]
  },
  {
   "cell_type": "code",
   "execution_count": 13,
   "metadata": {},
   "outputs": [],
   "source": [
    "# Function to perform inverse kinematics\n",
    "def compute_ik(target_position, target_orientation, orientation_mode=\"Y\"):\n",
    "    ik = my_chain.inverse_kinematics(target_position, target_orientation, orientation_mode=orientation_mode)\n",
    "    return ik"
   ]
  },
  {
   "cell_type": "code",
   "execution_count": 14,
   "metadata": {},
   "outputs": [],
   "source": [
    "# Initialize Plotly plot for real-time visualization\n",
    "fig = go.FigureWidget()\n",
    "fig.add_scatter3d(x=[], y=[], z=[], mode='lines+markers')\n",
    "\n",
    "# Function to update the plot\n",
    "def update_plot(ik):\n",
    "    positions = my_chain.forward_kinematics(ik)[:3, 3]\n",
    "    fig.data[0].x = [positions[0]]\n",
    "    fig.data[0].y = [positions[1]]\n",
    "    fig.data[0].z = [positions[2]]\n",
    "    fig.update_layout(scene=dict(xaxis=dict(range=[-0.5, 0.5]), yaxis=dict(range=[-0.5, 0.5]), zaxis=dict(range=[0, 0.6])))"
   ]
  },
  {
   "cell_type": "code",
   "execution_count": 15,
   "metadata": {},
   "outputs": [],
   "source": [
    "# Move function updates target position, computes IK, and updates the plot\n",
    "def move(x, y, z):\n",
    "    global target_position\n",
    "    target_position = [x, y, z]\n",
    "    ik = compute_ik(target_position, target_orientation)\n",
    "    update_plot(ik)"
   ]
  },
  {
   "cell_type": "code",
   "execution_count": 16,
   "metadata": {},
   "outputs": [],
   "source": [
    "# Optional: Initialize serial communication (you can adjust the port and parameters)\n",
    "#ser = serial.Serial('COM3', 9600, timeout=1)\n",
    "\n",
    "# Function to send commands via serial\n",
    "# def send_command(ik, move_time=1):\n",
    "#     angles = list(map(lambda r: math.degrees(r), ik.tolist()))\n",
    "#     command = ' '.join(f'{i}:{angle:.2f}' for i, angle in enumerate(angles)) + f' t{move_time}\\n'\n",
    "#     ser.write(command.encode('ASCII'))"
   ]
  },
  {
   "cell_type": "code",
   "execution_count": 17,
   "metadata": {},
   "outputs": [],
   "source": [
    "# Controller setup (put at the end and easy to comment out)\n",
    "# async def control_loop():\n",
    "#     con = widgets.Controller()\n",
    "#     display(con)\n",
    "#     x, y, z = 0, 0.25, 0.1\n",
    "#     while con.buttons[9].value < 1:\n",
    "#         xp, yp, zp = con.axes[0].value, con.axes[1].value, con.axes[2].value\n",
    "#         if abs(xp) > 0.1 or abs(yp) > 0.1 or abs(zp) > 0.1:\n",
    "#             x += xp / 100\n",
    "#             y -= yp / 100\n",
    "#             z -= zp / 100\n",
    "#             move(x, y, z)\n",
    "#         await asyncio.sleep(0.05)\n",
    "\n",
    "# loop = asyncio.get_event_loop()\n",
    "# loop.create_task(control_loop())"
   ]
  },
  {
   "cell_type": "code",
   "execution_count": 23,
   "metadata": {},
   "outputs": [
    {
     "data": {
      "application/vnd.jupyter.widget-view+json": {
       "model_id": "6c09b3ae538747338ffd9a910bf5bca7",
       "version_major": 2,
       "version_minor": 0
      },
      "text/plain": [
       "VBox(children=(VBox(children=(FloatSlider(value=0.0, description='X', max=0.5, min=-0.5, step=0.01), FloatSlid…"
      ]
     },
     "metadata": {},
     "output_type": "display_data"
    }
   ],
   "source": [
    "import ikpy.chain\n",
    "import numpy as np\n",
    "import plotly.graph_objects as go\n",
    "from ipywidgets import interactive, HBox, VBox, FloatSlider\n",
    "\n",
    "# Load the robot chain from a URDF file\n",
    "my_chain = ikpy.chain.Chain.from_urdf_file(\"arm_urdf.urdf\", active_links_mask=[False, True, True, True, True, True, True])\n",
    "\n",
    "# Define initial target position and orientation\n",
    "initial_position = [0, 0.2, 0.3]\n",
    "target_orientation = [-1, 0, 0]  # Assuming the orientation doesn't change for simplicity\n",
    "\n",
    "# Initialize Plotly plot for real-time visualization\n",
    "fig = go.FigureWidget()\n",
    "scatter = fig.add_scatter3d(x=[], y=[], z=[], mode='lines+markers')\n",
    "fig.update_layout(scene=dict(\n",
    "                    xaxis=dict(range=[-0.5, 0.5], autorange=False),\n",
    "                    yaxis=dict(range=[-0.5, 0.5], autorange=False),\n",
    "                    zaxis=dict(range=[0, 1.0], autorange=False)),\n",
    "                    width=700,\n",
    "                    margin=dict(r=20, l=10, b=10, t=10))\n",
    "\n",
    "\n",
    "# Function to compute and plot the IK results\n",
    "def update_plot(x, y, z):\n",
    "    target_position = [x, y, z]\n",
    "    ik = my_chain.inverse_kinematics(target_position, target_orientation)\n",
    "    positions = my_chain.forward_kinematics(ik)[:3, 3]\n",
    "    if positions.ndim == 1:  # Check if positions is a 1D array, meaning only one point\n",
    "        positions = np.array([positions])  # Convert to a 2D array with one row\n",
    "    with fig.batch_update():\n",
    "        fig.data[0].update(x=positions[:, 0].tolist(), y=positions[:, 1].tolist(), z=positions[:, 2].tolist())\n",
    "\n",
    "\n",
    "# Sliders to control the target position\n",
    "x_slider = FloatSlider(value=initial_position[0], min=-0.5, max=0.5, step=0.01, description='X')\n",
    "y_slider = FloatSlider(value=initial_position[1], min=-0.5, max=0.5, step=0.01, description='Y')\n",
    "z_slider = FloatSlider(value=initial_position[2], min=0.0, max=1.0, step=0.01, description='Z')\n",
    "\n",
    "# Function to update the plot whenever the sliders change\n",
    "def on_value_change(change):\n",
    "    update_plot(x_slider.value, y_slider.value, z_slider.value)\n",
    "\n",
    "# Watch for slider changes\n",
    "x_slider.observe(on_value_change, names='value')\n",
    "y_slider.observe(on_value_change, names='value')\n",
    "z_slider.observe(on_value_change, names='value')\n",
    "\n",
    "# Layout widgets\n",
    "sliders = VBox([x_slider, y_slider, z_slider])\n",
    "ui = VBox([sliders, fig])\n",
    "\n",
    "# Display UI\n",
    "display(ui)\n"
   ]
  }
 ],
 "metadata": {
  "kernelspec": {
   "display_name": "base",
   "language": "python",
   "name": "python3"
  },
  "language_info": {
   "codemirror_mode": {
    "name": "ipython",
    "version": 3
   },
   "file_extension": ".py",
   "mimetype": "text/x-python",
   "name": "python",
   "nbconvert_exporter": "python",
   "pygments_lexer": "ipython3",
   "version": "3.11.7"
  }
 },
 "nbformat": 4,
 "nbformat_minor": 2
}
