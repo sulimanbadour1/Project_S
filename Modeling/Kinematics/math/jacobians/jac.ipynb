{
 "cells": [
  {
   "cell_type": "code",
   "execution_count": 59,
   "metadata": {},
   "outputs": [],
   "source": [
    "import sympy as sp\n",
    "import numpy as np\n",
    "import matplotlib.pyplot as plt\n",
    "from mpl_toolkits.mplot3d import Axes3D"
   ]
  },
  {
   "cell_type": "code",
   "execution_count": 50,
   "metadata": {},
   "outputs": [],
   "source": [
    "# Define symbolic variables for angles and dimensions\n",
    "theta_1, theta_2, theta_3, theta_4, theta_5 = sp.symbols(\"theta_1 theta_2 theta_3 theta_4 theta_5\")\n",
    "d_1, d_5 = sp.symbols(\"d_1 d_5\")  # d_5 for the last joint\n",
    "a_2, a_3 = sp.symbols(\"a_2 a_3\")  # a_2 and a_3 for the lengths of the second and third links"
   ]
  },
  {
   "cell_type": "code",
   "execution_count": 51,
   "metadata": {},
   "outputs": [],
   "source": [
    "# Alpha values in degrees, with an updated value for alpha_4\n",
    "alpha = [90, 0, 0, 90, 0]\n"
   ]
  },
  {
   "cell_type": "code",
   "execution_count": 52,
   "metadata": {},
   "outputs": [],
   "source": [
    "# Helper function to create a transformation matrix from DH parameters\n",
    "def dh_matrix(theta, d, a, alpha):\n",
    "    alpha_rad = sp.rad(alpha)  # Convert alpha from degrees to radians\n",
    "    return sp.Matrix([\n",
    "        [sp.cos(theta), -sp.sin(theta) * sp.cos(alpha_rad), sp.sin(theta) * sp.sin(alpha_rad), a * sp.cos(theta)],\n",
    "        [sp.sin(theta), sp.cos(theta) * sp.cos(alpha_rad), -sp.cos(theta) * sp.sin(alpha_rad), a * sp.sin(theta)],\n",
    "        [0, sp.sin(alpha_rad), sp.cos(alpha_rad), d],\n",
    "        [0, 0, 0, 1]\n",
    "    ])"
   ]
  },
  {
   "cell_type": "code",
   "execution_count": 53,
   "metadata": {},
   "outputs": [],
   "source": [
    "# Create transformation matrices for each joint using the updated parameters\n",
    "A1 = dh_matrix(theta_1, d_1, 0, alpha[0])\n",
    "A2 = dh_matrix(theta_2, 0, a_2, alpha[1])\n",
    "A3 = dh_matrix(theta_3, 0, a_3, alpha[2])\n",
    "A4 = dh_matrix(theta_4, 0, 0, alpha[3])  # a_4 is zero\n",
    "A5 = dh_matrix(theta_5, d_5, 0, alpha[4])  # a_5 is zero, added d_5"
   ]
  },
  {
   "cell_type": "code",
   "execution_count": 54,
   "metadata": {},
   "outputs": [],
   "source": [
    "# Compute the overall transformation matrix by multiplying individual matrices\n",
    "T = A1 * A2 * A3 * A4 * A5\n",
    "\n",
    "# Initialize pretty printing for better output readability\n",
    "sp.init_printing(use_unicode=True)\n",
    "\n",
    "# Extract the position vector from the transformation matrix\n",
    "position = T[:3, 3]"
   ]
  },
  {
   "cell_type": "code",
   "execution_count": 55,
   "metadata": {},
   "outputs": [
    {
     "name": "stdout",
     "output_type": "stream",
     "text": [
      "Jacobian for linear velocity (Jv):\n",
      "⎡-a₂⋅sin(θ₁)⋅cos(θ₂) + a₃⋅sin(θ₁)⋅sin(θ₂)⋅sin(θ₃) - a₃⋅sin(θ₁)⋅cos(θ₂)⋅cos(θ₃)\n",
      "⎢                                                                             \n",
      "⎢a₂⋅cos(θ₁)⋅cos(θ₂) - a₃⋅sin(θ₂)⋅sin(θ₃)⋅cos(θ₁) + a₃⋅cos(θ₁)⋅cos(θ₂)⋅cos(θ₃) \n",
      "⎢                                                                             \n",
      "⎣                                                                             \n",
      "\n",
      " + d₅⋅((sin(θ₁)⋅sin(θ₂)⋅sin(θ₃) - sin(θ₁)⋅cos(θ₂)⋅cos(θ₃))⋅sin(θ₄) - (sin(θ₁)⋅\n",
      "                                                                              \n",
      "+ d₅⋅((-sin(θ₂)⋅sin(θ₃)⋅cos(θ₁) + cos(θ₁)⋅cos(θ₂)⋅cos(θ₃))⋅sin(θ₄) - (-sin(θ₂)\n",
      "                                                                              \n",
      "                          0                                                   \n",
      "\n",
      "sin(θ₂)⋅cos(θ₃) + sin(θ₁)⋅sin(θ₃)⋅cos(θ₂))⋅cos(θ₄))   -a₂⋅sin(θ₂)⋅cos(θ₁) - a₃\n",
      "                                                                              \n",
      "⋅cos(θ₁)⋅cos(θ₃) - sin(θ₃)⋅cos(θ₁)⋅cos(θ₂))⋅cos(θ₄))  -a₂⋅sin(θ₁)⋅sin(θ₂) - a₃\n",
      "                                                                              \n",
      "                                                                              \n",
      "\n",
      "⋅sin(θ₂)⋅cos(θ₁)⋅cos(θ₃) - a₃⋅sin(θ₃)⋅cos(θ₁)⋅cos(θ₂) + d₅⋅(-(sin(θ₂)⋅sin(θ₃)⋅\n",
      "                                                                              \n",
      "⋅sin(θ₁)⋅sin(θ₂)⋅cos(θ₃) - a₃⋅sin(θ₁)⋅sin(θ₃)⋅cos(θ₂) + d₅⋅(-(sin(θ₁)⋅sin(θ₂)⋅\n",
      "                                                                              \n",
      "    a₂⋅cos(θ₂) - a₃⋅sin(θ₂)⋅sin(θ₃) + a₃⋅cos(θ₂)⋅cos(θ₃) + d₅⋅((-sin(θ₂)⋅sin(θ\n",
      "\n",
      "cos(θ₁) - cos(θ₁)⋅cos(θ₂)⋅cos(θ₃))⋅cos(θ₄) + (-sin(θ₂)⋅cos(θ₁)⋅cos(θ₃) - sin(θ\n",
      "                                                                              \n",
      "sin(θ₃) - sin(θ₁)⋅cos(θ₂)⋅cos(θ₃))⋅cos(θ₄) + (-sin(θ₁)⋅sin(θ₂)⋅cos(θ₃) - sin(θ\n",
      "                                                                              \n",
      "₃) + cos(θ₂)⋅cos(θ₃))⋅sin(θ₄) - (-sin(θ₂)⋅cos(θ₃) - sin(θ₃)⋅cos(θ₂))⋅cos(θ₄)) \n",
      "\n",
      "₃)⋅cos(θ₁)⋅cos(θ₂))⋅sin(θ₄))  -a₃⋅sin(θ₂)⋅cos(θ₁)⋅cos(θ₃) - a₃⋅sin(θ₃)⋅cos(θ₁)\n",
      "                                                                              \n",
      "₁)⋅sin(θ₃)⋅cos(θ₂))⋅sin(θ₄))  -a₃⋅sin(θ₁)⋅sin(θ₂)⋅cos(θ₃) - a₃⋅sin(θ₁)⋅sin(θ₃)\n",
      "                                                                              \n",
      "                                                      -a₃⋅sin(θ₂)⋅sin(θ₃) + a₃\n",
      "\n",
      "⋅cos(θ₂) + d₅⋅(-(sin(θ₂)⋅sin(θ₃)⋅cos(θ₁) - cos(θ₁)⋅cos(θ₂)⋅cos(θ₃))⋅cos(θ₄) + \n",
      "                                                                              \n",
      "⋅cos(θ₂) + d₅⋅(-(sin(θ₁)⋅sin(θ₂)⋅sin(θ₃) - sin(θ₁)⋅cos(θ₂)⋅cos(θ₃))⋅cos(θ₄) + \n",
      "                                                                              \n",
      "⋅cos(θ₂)⋅cos(θ₃) + d₅⋅((-sin(θ₂)⋅sin(θ₃) + cos(θ₂)⋅cos(θ₃))⋅sin(θ₄) - (-sin(θ₂\n",
      "\n",
      "(-sin(θ₂)⋅cos(θ₁)⋅cos(θ₃) - sin(θ₃)⋅cos(θ₁)⋅cos(θ₂))⋅sin(θ₄))  d₅⋅((-sin(θ₂)⋅s\n",
      "                                                                              \n",
      "(-sin(θ₁)⋅sin(θ₂)⋅cos(θ₃) - sin(θ₁)⋅sin(θ₃)⋅cos(θ₂))⋅sin(θ₄))  d₅⋅((-sin(θ₁)⋅s\n",
      "                                                                              \n",
      ")⋅cos(θ₃) - sin(θ₃)⋅cos(θ₂))⋅cos(θ₄))                                         \n",
      "\n",
      "in(θ₃)⋅cos(θ₁) + cos(θ₁)⋅cos(θ₂)⋅cos(θ₃))⋅cos(θ₄) + (-sin(θ₂)⋅cos(θ₁)⋅cos(θ₃) \n",
      "                                                                              \n",
      "in(θ₂)⋅sin(θ₃) + sin(θ₁)⋅cos(θ₂)⋅cos(θ₃))⋅cos(θ₄) + (-sin(θ₁)⋅sin(θ₂)⋅cos(θ₃) \n",
      "                                                                              \n",
      " d₅⋅((-sin(θ₂)⋅sin(θ₃) + cos(θ₂)⋅cos(θ₃))⋅sin(θ₄) + (sin(θ₂)⋅cos(θ₃) + sin(θ₃)\n",
      "\n",
      "- sin(θ₃)⋅cos(θ₁)⋅cos(θ₂))⋅sin(θ₄))  0⎤\n",
      "                                      ⎥\n",
      "- sin(θ₁)⋅sin(θ₃)⋅cos(θ₂))⋅sin(θ₄))  0⎥\n",
      "                                      ⎥\n",
      "⋅cos(θ₂))⋅cos(θ₄))                   0⎦\n"
     ]
    }
   ],
   "source": [
    "\n",
    "# Compute the Jacobian for linear velocity\n",
    "Jv = sp.Matrix.hstack(\n",
    "    position.jacobian([theta_1, theta_2, theta_3, theta_4, theta_5])\n",
    ")\n",
    "\n",
    "# Extract the orientation part (rotation matrix) from the transformation matrix\n",
    "R = T[:3, :3]\n",
    "\n",
    "# Initialize the Jacobian for angular velocity\n",
    "Jw = sp.Matrix.zeros(3, 5)\n",
    "\n",
    "# The angular part of the Jacobian is given by the z-axis of the previous frames\n",
    "z = sp.Matrix([[0], [0], [1]])  # z0 axis (base frame)\n",
    "\n",
    "# Compute z-axes of each frame\n",
    "z1 = A1[:3, :3] * z\n",
    "z2 = (A1 * A2)[:3, :3] * z\n",
    "z3 = (A1 * A2 * A3)[:3, :3] * z\n",
    "z4 = (A1 * A2 * A3 * A4)[:3, :3] * z\n",
    "\n",
    "# Populate the Jacobian for angular velocity\n",
    "Jw[:, 0] = z[:, 0]\n",
    "Jw[:, 1] = z1[:, 0]\n",
    "Jw[:, 2] = z2[:, 0]\n",
    "Jw[:, 3] = z3[:, 0]\n",
    "Jw[:, 4] = z4[:, 0]\n",
    "\n",
    "# Print the Jacobians\n",
    "print(\"Jacobian for linear velocity (Jv):\")\n",
    "sp.pprint(Jv)"
   ]
  },
  {
   "cell_type": "code",
   "execution_count": 56,
   "metadata": {},
   "outputs": [
    {
     "name": "stdout",
     "output_type": "stream",
     "text": [
      "\n",
      "Jacobian for angular velocity (Jw):\n",
      "⎡0  sin(θ₁)   sin(θ₁)   sin(θ₁)   (-sin(θ₂)⋅sin(θ₃)⋅cos(θ₁) + cos(θ₁)⋅cos(θ₂)⋅\n",
      "⎢                                                                             \n",
      "⎢0  -cos(θ₁)  -cos(θ₁)  -cos(θ₁)  (-sin(θ₁)⋅sin(θ₂)⋅sin(θ₃) + sin(θ₁)⋅cos(θ₂)⋅\n",
      "⎢                                                                             \n",
      "⎣1     0         0         0                      -(-sin(θ₂)⋅sin(θ₃) + cos(θ₂)\n",
      "\n",
      "cos(θ₃))⋅sin(θ₄) - (-sin(θ₂)⋅cos(θ₁)⋅cos(θ₃) - sin(θ₃)⋅cos(θ₁)⋅cos(θ₂))⋅cos(θ₄\n",
      "                                                                              \n",
      "cos(θ₃))⋅sin(θ₄) - (-sin(θ₁)⋅sin(θ₂)⋅cos(θ₃) - sin(θ₁)⋅sin(θ₃)⋅cos(θ₂))⋅cos(θ₄\n",
      "                                                                              \n",
      "⋅cos(θ₃))⋅cos(θ₄) + (sin(θ₂)⋅cos(θ₃) + sin(θ₃)⋅cos(θ₂))⋅sin(θ₄)               \n",
      "\n",
      ")⎤\n",
      " ⎥\n",
      ")⎥\n",
      " ⎥\n",
      " ⎦\n"
     ]
    }
   ],
   "source": [
    "print(\"\\nJacobian for angular velocity (Jw):\")\n",
    "sp.pprint(Jw)"
   ]
  },
  {
   "cell_type": "code",
   "execution_count": 57,
   "metadata": {},
   "outputs": [
    {
     "name": "stdout",
     "output_type": "stream",
     "text": [
      "\n",
      "Rank of the Jacobian for linear velocity (Jv):\n",
      "3\n",
      "\n",
      "Rank of the Jacobian for angular velocity (Jw):\n",
      "3\n"
     ]
    }
   ],
   "source": [
    "# Check the rank of the Jacobian matrices\n",
    "rank_Jv = Jv.rank()\n",
    "rank_Jw = Jw.rank()\n",
    "\n",
    "print(\"\\nRank of the Jacobian for linear velocity (Jv):\")\n",
    "sp.pprint(rank_Jv)\n",
    "\n",
    "print(\"\\nRank of the Jacobian for angular velocity (Jw):\")\n",
    "sp.pprint(rank_Jw)"
   ]
  },
  {
   "cell_type": "code",
   "execution_count": 58,
   "metadata": {},
   "outputs": [
    {
     "name": "stdout",
     "output_type": "stream",
     "text": [
      "\n",
      "Jacobian for linear velocity (Jv) at specific configuration:\n",
      "⎡-a₂⋅sin(10) - a₃⋅sin(10)  d₅⋅cos(10)  d₅⋅cos(10)  d₅⋅cos(10)  0⎤\n",
      "⎢                                                               ⎥\n",
      "⎢a₂⋅cos(10) + a₃⋅cos(10)   d₅⋅sin(10)  d₅⋅sin(10)  d₅⋅sin(10)  0⎥\n",
      "⎢                                                               ⎥\n",
      "⎣           0               a₂ + a₃        a₃          0       0⎦\n",
      "\n",
      "Rank of the Jacobian for linear velocity (Jv) at specific configuration:\n",
      "3\n",
      "\n",
      "Jacobian for angular velocity (Jw) at specific configuration:\n",
      "⎡0  sin(10)   sin(10)   sin(10)   0 ⎤\n",
      "⎢                                   ⎥\n",
      "⎢0  -cos(10)  -cos(10)  -cos(10)  0 ⎥\n",
      "⎢                                   ⎥\n",
      "⎣1     0         0         0      -1⎦\n",
      "\n",
      "Rank of the Jacobian for angular velocity (Jw) at specific configuration:\n",
      "2\n",
      "\n",
      "Is the configuration singular? No\n"
     ]
    }
   ],
   "source": [
    "theta_values = {\n",
    "    theta_1: 10,\n",
    "    theta_2: 0,\n",
    "    theta_3: 0,\n",
    "    theta_4: 0,\n",
    "    theta_5: 0,\n",
    "}\n",
    "Jv_sub = Jv.subs(theta_values)\n",
    "Jw_sub = Jw.subs(theta_values)\n",
    "rank_Jv_sub = Jv_sub.rank()\n",
    "rank_Jw_sub = Jw_sub.rank()\n",
    "print(\"\\nJacobian for linear velocity (Jv) at specific configuration:\")\n",
    "sp.pprint(Jv_sub)\n",
    "print(\"\\nRank of the Jacobian for linear velocity (Jv) at specific configuration:\")\n",
    "sp.pprint(rank_Jv_sub)\n",
    "print(\"\\nJacobian for angular velocity (Jw) at specific configuration:\")\n",
    "sp.pprint(Jw_sub)\n",
    "print(\"\\nRank of the Jacobian for angular velocity (Jw) at specific configuration:\")\n",
    "sp.pprint(rank_Jw_sub)\n",
    "\n",
    "\n",
    "# Check if the configuration is singular\n",
    "is_singular = rank_Jv_sub+ rank_Jw_sub < 5\n",
    "print(f\"\\nIs the configuration singular? {'Yes' if is_singular else 'No'}\")\n"
   ]
  }
 ],
 "metadata": {
  "kernelspec": {
   "display_name": "base",
   "language": "python",
   "name": "python3"
  },
  "language_info": {
   "codemirror_mode": {
    "name": "ipython",
    "version": 3
   },
   "file_extension": ".py",
   "mimetype": "text/x-python",
   "name": "python",
   "nbconvert_exporter": "python",
   "pygments_lexer": "ipython3",
   "version": "3.11.7"
  }
 },
 "nbformat": 4,
 "nbformat_minor": 2
}
