{
 "cells": [
  {
   "cell_type": "markdown",
   "metadata": {},
   "source": [
    "# Torque Analysis for a 5-DOF Robotic Manipulator"
   ]
  },
  {
   "cell_type": "markdown",
   "metadata": {},
   "source": [
    "# Compute Torques Due to Gravity"
   ]
  },
  {
   "cell_type": "code",
   "execution_count": 30,
   "metadata": {},
   "outputs": [],
   "source": [
    "import sympy as sp\n",
    "import matplotlib.pyplot as plt"
   ]
  },
  {
   "cell_type": "code",
   "execution_count": 35,
   "metadata": {},
   "outputs": [
    {
     "ename": "NameError",
     "evalue": "name 'd_1_val' is not defined",
     "output_type": "error",
     "traceback": [
      "\u001b[1;31m---------------------------------------------------------------------------\u001b[0m",
      "\u001b[1;31mNameError\u001b[0m                                 Traceback (most recent call last)",
      "Cell \u001b[1;32mIn[35], line 143\u001b[0m\n\u001b[0;32m    140\u001b[0m torques_list \u001b[38;5;241m=\u001b[39m []\n\u001b[0;32m    142\u001b[0m \u001b[38;5;28;01mfor\u001b[39;00m angles \u001b[38;5;129;01min\u001b[39;00m angles_list:\n\u001b[1;32m--> 143\u001b[0m     torques \u001b[38;5;241m=\u001b[39m compute_torques(\u001b[43md_1_val\u001b[49m, d_5_val, a_2_val, a_3_val, masses, inertias, angles)\n\u001b[0;32m    144\u001b[0m     torques_list\u001b[38;5;241m.\u001b[39mappend([tau\u001b[38;5;241m.\u001b[39mevalf() \u001b[38;5;28;01mfor\u001b[39;00m tau \u001b[38;5;129;01min\u001b[39;00m torques])\n\u001b[0;32m    146\u001b[0m plot_torques(angles_list, torques_list, \u001b[38;5;124m'\u001b[39m\u001b[38;5;124mTorques due to Gravity for Different Angles\u001b[39m\u001b[38;5;124m'\u001b[39m)\n",
      "\u001b[1;31mNameError\u001b[0m: name 'd_1_val' is not defined"
     ]
    }
   ],
   "source": [
    "# Define the computation function\n",
    "def compute_torques(d_1_val, d_5_val, a_2_val, a_3_val, masses, inertias, angles):\n",
    "    # Define symbolic variables for joint angles, DH parameters, masses, and inertia\n",
    "    theta_1, theta_2, theta_3, theta_4, theta_5 = sp.symbols(\"theta_1 theta_2 theta_3 theta_4 theta_5\")\n",
    "    d_1, d_5 = sp.symbols(\"d_1 d_5\")\n",
    "    a_2, a_3 = sp.symbols(\"a_2 a_3\")\n",
    "    alpha = [90, 0, 0, 90, 0]\n",
    "    m1, m2, m3, m4, m5 = sp.symbols(\"m1 m2 m3 m4 m5\")\n",
    "    g = sp.Matrix([0, 0, -9.81])\n",
    "\n",
    "    # Define inertia matrices (assuming simple diagonal form for simplicity)\n",
    "    I1_xx, I1_yy, I1_zz = sp.symbols(\"I1_xx I1_yy I1_zz\")\n",
    "    I2_xx, I2_yy, I2_zz = sp.symbols(\"I2_xx I2_yy I2_zz\")\n",
    "    I3_xx, I3_yy, I3_zz = sp.symbols(\"I3_xx I3_yy I3_zz\")\n",
    "    I4_xx, I4_yy, I4_zz = sp.symbols(\"I4_xx I4_yy I4_zz\")\n",
    "    I5_xx, I5_yy, I5_zz = sp.symbols(\"I5_xx I5_yy I5_zz\")\n",
    "\n",
    "    I1 = sp.diag(I1_xx, I1_yy, I1_zz)\n",
    "    I2 = sp.diag(I2_xx, I2_yy, I2_zz)\n",
    "    I3 = sp.diag(I3_xx, I3_yy, I3_zz)\n",
    "    I4 = sp.diag(I4_xx, I4_yy, I4_zz)\n",
    "    I5 = sp.diag(I5_xx, I5_yy, I5_zz)\n",
    "\n",
    "    # Helper function to create a transformation matrix from DH parameters\n",
    "    def dh_matrix(theta, d, a, alpha):\n",
    "        alpha_rad = sp.rad(alpha)\n",
    "        return sp.Matrix(\n",
    "            [\n",
    "                [sp.cos(theta), -sp.sin(theta) * sp.cos(alpha_rad), sp.sin(theta) * sp.sin(alpha_rad), a * sp.cos(theta)],\n",
    "                [sp.sin(theta), sp.cos(theta) * sp.cos(alpha_rad), -sp.cos(theta) * sp.sin(alpha_rad), a * sp.sin(theta)],\n",
    "                [0, sp.sin(alpha_rad), sp.cos(alpha_rad), d],\n",
    "                [0, 0, 0, 1],\n",
    "            ]\n",
    "        )\n",
    "\n",
    "    # Create transformation matrices\n",
    "    A1 = dh_matrix(theta_1, d_1, 0, alpha[0])\n",
    "    A2 = dh_matrix(theta_2, 0, a_2, alpha[1])\n",
    "    A3 = dh_matrix(theta_3, 0, a_3, alpha[2])\n",
    "    A4 = dh_matrix(theta_4, 0, 0, alpha[3])\n",
    "    A5 = dh_matrix(theta_5, d_5, 0, alpha[4])\n",
    "\n",
    "    # Compute the individual transformation matrices\n",
    "    T1 = A1\n",
    "    T2 = T1 * A2\n",
    "    T3 = T2 * A3\n",
    "    T4 = T3 * A4\n",
    "    T5 = T4 * A5\n",
    "\n",
    "    # Extract positions of each link's center of mass\n",
    "    # Assume center of mass at the middle of each link for simplicity\n",
    "    p1 = T1[:3, 3] / 2\n",
    "    p2 = T2[:3, 3] / 2\n",
    "    p3 = T3[:3, 3] / 2\n",
    "    p4 = T4[:3, 3] / 2\n",
    "    p5 = T5[:3, 3] / 2\n",
    "\n",
    "    # Compute the Jacobians for each center of mass\n",
    "    Jv1 = p1.jacobian([theta_1, theta_2, theta_3, theta_4, theta_5])\n",
    "    Jv2 = p2.jacobian([theta_1, theta_2, theta_3, theta_4, theta_5])\n",
    "    Jv3 = p3.jacobian([theta_1, theta_2, theta_3, theta_4, theta_5])\n",
    "    Jv4 = p4.jacobian([theta_1, theta_2, theta_3, theta_4, theta_5])\n",
    "    Jv5 = p5.jacobian([theta_1, theta_2, theta_3, theta_4, theta_5])\n",
    "\n",
    "    # Compute the gravity vector for each link (assuming center of mass at the link origin)\n",
    "    G1 = m1 * g\n",
    "    G2 = m2 * g\n",
    "    G3 = m3 * g\n",
    "    G4 = m4 * g\n",
    "    G5 = m5 * g\n",
    "\n",
    "    # Compute the torques due to gravity for each link\n",
    "    tau_g1 = Jv1.T * G1\n",
    "    tau_g2 = Jv2.T * G2\n",
    "    tau_g3 = Jv3.T * G3\n",
    "    tau_g4 = Jv4.T * G4\n",
    "    tau_g5 = Jv5.T * G5\n",
    "\n",
    "    # Sum the torques due to gravity\n",
    "    tau_g = tau_g1 + tau_g2 + tau_g3 + tau_g4 + tau_g5\n",
    "\n",
    "    # Provide numerical values for testing\n",
    "    values = {\n",
    "        d_1: d_1_val,\n",
    "        d_5: d_5_val,\n",
    "        a_2: a_2_val,\n",
    "        a_3: a_3_val,\n",
    "        m1: masses[0],\n",
    "        m2: masses[1],\n",
    "        m3: masses[2],\n",
    "        m4: masses[3],\n",
    "        m5: masses[4],\n",
    "        I1_xx: inertias[0][0],\n",
    "        I1_yy: inertias[0][1],\n",
    "        I1_zz: inertias[0][2],\n",
    "        I2_xx: inertias[1][0],\n",
    "        I2_yy: inertias[1][1],\n",
    "        I2_zz: inertias[1][2],\n",
    "        I3_xx: inertias[2][0],\n",
    "        I3_yy: inertias[2][1],\n",
    "        I3_zz: inertias[2][2],\n",
    "        I4_xx: inertias[3][0],\n",
    "        I4_yy: inertias[3][1],\n",
    "        I4_zz: inertias[3][2],\n",
    "        I5_xx: inertias[4][0],\n",
    "        I5_yy: inertias[4][1],\n",
    "        I5_zz: inertias[4][2],\n",
    "        theta_1: angles[0],\n",
    "        theta_2: angles[1],\n",
    "        theta_3: angles[2],\n",
    "        theta_4: angles[3],\n",
    "        theta_5: angles[4],\n",
    "    }\n",
    "\n",
    "    # Compute numerical torques due to gravity\n",
    "    numerical_torques = tau_g.subs(values)\n",
    "    return numerical_torques\n"
   ]
  },
  {
   "cell_type": "code",
   "execution_count": 32,
   "metadata": {},
   "outputs": [],
   "source": [
    "# Define the function to plot the torques\n",
    "def plot_torques(angles_list, torques_list, title):\n",
    "    fig, ax = plt.subplots()\n",
    "    angles_degrees = [sp.deg(angle) for angle in angles_list]\n",
    "    for i, tau in enumerate(torques_list):\n",
    "        ax.plot(angles_degrees, tau, label=f'Torque {i+1}')\n",
    "    ax.set_xlabel('Joint Angles (degrees)')\n",
    "    ax.set_ylabel('Torque (Nm)')\n",
    "    ax.set_title(title)\n",
    "    ax.legend()\n",
    "    plt.show()"
   ]
  },
  {
   "cell_type": "code",
   "execution_count": 36,
   "metadata": {},
   "outputs": [],
   "source": [
    "# Experiment with different sets of angles\n",
    "d_1_val = 0.1\n",
    "d_5_val = 0.1\n",
    "a_2_val = 0.5\n",
    "a_3_val = 0.5\n",
    "masses = [1.0, 1.0, 1.0, 1.0, 1.0]\n",
    "inertias = [\n",
    "    [0.1, 0.1, 0.1],\n",
    "    [0.1, 0.1, 0.1],\n",
    "    [0.1, 0.1, 0.1],\n",
    "    [0.1, 0.1, 0.1],\n",
    "    [0.1, 0.1, 0.1],\n",
    "]"
   ]
  },
  {
   "cell_type": "code",
   "execution_count": 38,
   "metadata": {},
   "outputs": [
    {
     "ename": "TypeError",
     "evalue": "unsupported operand type(s) for /: 'list' and 'Pi'",
     "output_type": "error",
     "traceback": [
      "\u001b[1;31m---------------------------------------------------------------------------\u001b[0m",
      "\u001b[1;31mTypeError\u001b[0m                                 Traceback (most recent call last)",
      "Cell \u001b[1;32mIn[38], line 12\u001b[0m\n\u001b[0;32m      9\u001b[0m     torques \u001b[38;5;241m=\u001b[39m compute_torques(d_1_val, d_5_val, a_2_val, a_3_val, masses, inertias, angles)\n\u001b[0;32m     10\u001b[0m     torques_list\u001b[38;5;241m.\u001b[39mappend([tau\u001b[38;5;241m.\u001b[39mevalf() \u001b[38;5;28;01mfor\u001b[39;00m tau \u001b[38;5;129;01min\u001b[39;00m torques])\n\u001b[1;32m---> 12\u001b[0m \u001b[43mplot_torques\u001b[49m\u001b[43m(\u001b[49m\u001b[43mangles_list\u001b[49m\u001b[43m,\u001b[49m\u001b[43m \u001b[49m\u001b[43mtorques_list\u001b[49m\u001b[43m,\u001b[49m\u001b[43m \u001b[49m\u001b[38;5;124;43m'\u001b[39;49m\u001b[38;5;124;43mTorques due to Gravity for Different Angles\u001b[39;49m\u001b[38;5;124;43m'\u001b[39;49m\u001b[43m)\u001b[49m\n",
      "Cell \u001b[1;32mIn[35], line 125\u001b[0m, in \u001b[0;36mplot_torques\u001b[1;34m(angles_list, torques_list, title)\u001b[0m\n\u001b[0;32m    123\u001b[0m \u001b[38;5;28;01mdef\u001b[39;00m \u001b[38;5;21mplot_torques\u001b[39m(angles_list, torques_list, title):\n\u001b[0;32m    124\u001b[0m     fig, ax \u001b[38;5;241m=\u001b[39m plt\u001b[38;5;241m.\u001b[39msubplots()\n\u001b[1;32m--> 125\u001b[0m     angles_degrees \u001b[38;5;241m=\u001b[39m \u001b[43m[\u001b[49m\u001b[43msp\u001b[49m\u001b[38;5;241;43m.\u001b[39;49m\u001b[43mdeg\u001b[49m\u001b[43m(\u001b[49m\u001b[43mangle\u001b[49m\u001b[43m)\u001b[49m\u001b[43m \u001b[49m\u001b[38;5;28;43;01mfor\u001b[39;49;00m\u001b[43m \u001b[49m\u001b[43mangle\u001b[49m\u001b[43m \u001b[49m\u001b[38;5;129;43;01min\u001b[39;49;00m\u001b[43m \u001b[49m\u001b[43mangles_list\u001b[49m\u001b[43m]\u001b[49m\n\u001b[0;32m    126\u001b[0m     \u001b[38;5;28;01mfor\u001b[39;00m i, tau \u001b[38;5;129;01min\u001b[39;00m \u001b[38;5;28menumerate\u001b[39m(torques_list):\n\u001b[0;32m    127\u001b[0m         ax\u001b[38;5;241m.\u001b[39mplot(angles_degrees, tau, label\u001b[38;5;241m=\u001b[39m\u001b[38;5;124mf\u001b[39m\u001b[38;5;124m'\u001b[39m\u001b[38;5;124mTorque \u001b[39m\u001b[38;5;132;01m{\u001b[39;00mi\u001b[38;5;241m+\u001b[39m\u001b[38;5;241m1\u001b[39m\u001b[38;5;132;01m}\u001b[39;00m\u001b[38;5;124m'\u001b[39m)\n",
      "Cell \u001b[1;32mIn[35], line 125\u001b[0m, in \u001b[0;36m<listcomp>\u001b[1;34m(.0)\u001b[0m\n\u001b[0;32m    123\u001b[0m \u001b[38;5;28;01mdef\u001b[39;00m \u001b[38;5;21mplot_torques\u001b[39m(angles_list, torques_list, title):\n\u001b[0;32m    124\u001b[0m     fig, ax \u001b[38;5;241m=\u001b[39m plt\u001b[38;5;241m.\u001b[39msubplots()\n\u001b[1;32m--> 125\u001b[0m     angles_degrees \u001b[38;5;241m=\u001b[39m [\u001b[43msp\u001b[49m\u001b[38;5;241;43m.\u001b[39;49m\u001b[43mdeg\u001b[49m\u001b[43m(\u001b[49m\u001b[43mangle\u001b[49m\u001b[43m)\u001b[49m \u001b[38;5;28;01mfor\u001b[39;00m angle \u001b[38;5;129;01min\u001b[39;00m angles_list]\n\u001b[0;32m    126\u001b[0m     \u001b[38;5;28;01mfor\u001b[39;00m i, tau \u001b[38;5;129;01min\u001b[39;00m \u001b[38;5;28menumerate\u001b[39m(torques_list):\n\u001b[0;32m    127\u001b[0m         ax\u001b[38;5;241m.\u001b[39mplot(angles_degrees, tau, label\u001b[38;5;241m=\u001b[39m\u001b[38;5;124mf\u001b[39m\u001b[38;5;124m'\u001b[39m\u001b[38;5;124mTorque \u001b[39m\u001b[38;5;132;01m{\u001b[39;00mi\u001b[38;5;241m+\u001b[39m\u001b[38;5;241m1\u001b[39m\u001b[38;5;132;01m}\u001b[39;00m\u001b[38;5;124m'\u001b[39m)\n",
      "File \u001b[1;32me:\\anaconda\\Lib\\site-packages\\sympy\\geometry\\polygon.py:2852\u001b[0m, in \u001b[0;36mdeg\u001b[1;34m(r)\u001b[0m\n\u001b[0;32m   2850\u001b[0m \u001b[38;5;28;01mdef\u001b[39;00m \u001b[38;5;21mdeg\u001b[39m(r):\n\u001b[0;32m   2851\u001b[0m \u001b[38;5;250m    \u001b[39m\u001b[38;5;124;03m\"\"\"Return the degree value for the given radians (pi = 180 degrees).\"\"\"\u001b[39;00m\n\u001b[1;32m-> 2852\u001b[0m     \u001b[38;5;28;01mreturn\u001b[39;00m \u001b[43mr\u001b[49m\u001b[38;5;241;43m/\u001b[39;49m\u001b[43mpi\u001b[49m\u001b[38;5;241m*\u001b[39m\u001b[38;5;241m180\u001b[39m\n",
      "\u001b[1;31mTypeError\u001b[0m: unsupported operand type(s) for /: 'list' and 'Pi'"
     ]
    },
    {
     "data": {
      "image/png": "[encoded data removed]",
      "text/plain": [
       "<Figure size 640x480 with 1 Axes>"
      ]
     },
     "metadata": {},
     "output_type": "display_data"
    }
   ],
   "source": [
    "angles_set_1 = [0, 0, 0, 0, 0]\n",
    "angles_set_2 = [sp.rad(30), sp.rad(45), sp.rad(60), sp.rad(90), sp.rad(120)]\n",
    "angles_set_3 = [sp.rad(0), sp.rad(0), sp.rad(90), sp.rad(90), sp.rad(90)]\n",
    "\n",
    "angles_list = [angles_set_1, angles_set_2, angles_set_3]\n",
    "torques_list = []\n",
    "\n",
    "for angles in angles_list:\n",
    "    torques = compute_torques(d_1_val, d_5_val, a_2_val, a_3_val, masses, inertias, angles)\n",
    "    torques_list.append([tau.evalf() for tau in torques])\n",
    "\n",
    "plot_torques(angles_list, torques_list, 'Torques due to Gravity for Different Angles')"
   ]
  }
 ],
 "metadata": {
  "kernelspec": {
   "display_name": "base",
   "language": "python",
   "name": "python3"
  },
  "language_info": {
   "codemirror_mode": {
    "name": "ipython",
    "version": 3
   },
   "file_extension": ".py",
   "mimetype": "text/x-python",
   "name": "python",
   "nbconvert_exporter": "python",
   "pygments_lexer": "ipython3",
   "version": "3.11.7"
  }
 },
 "nbformat": 4,
 "nbformat_minor": 2
}
